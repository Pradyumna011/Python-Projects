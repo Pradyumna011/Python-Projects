{
 "cells": [
  {
   "cell_type": "code",
   "execution_count": null,
   "id": "4dc9a21c-8994-454b-8c09-1d1943b72a12",
   "metadata": {},
   "outputs": [
    {
     "data": {
      "text/markdown": [
       "## 🧮 Matrix Operations Tool"
      ],
      "text/plain": [
       "<IPython.core.display.Markdown object>"
      ]
     },
     "metadata": {},
     "output_type": "display_data"
    },
    {
     "data": {
      "application/vnd.jupyter.widget-view+json": {
       "model_id": "a8e2c18554b944a180d1079fa1f935bf",
       "version_major": 2,
       "version_minor": 0
      },
      "text/plain": [
       "Textarea(value='1,2\\n3,4', description='Matrix A:', layout=Layout(width='50%'))"
      ]
     },
     "metadata": {},
     "output_type": "display_data"
    },
    {
     "data": {
      "application/vnd.jupyter.widget-view+json": {
       "model_id": "e3d477f4b5114260b3a5afe9e0004716",
       "version_major": 2,
       "version_minor": 0
      },
      "text/plain": [
       "Textarea(value='5,6\\n7,8', description='Matrix B:', layout=Layout(width='50%'))"
      ]
     },
     "metadata": {},
     "output_type": "display_data"
    },
    {
     "data": {
      "application/vnd.jupyter.widget-view+json": {
       "model_id": "d7c9683a06394cc589bcaf52af51588c",
       "version_major": 2,
       "version_minor": 0
      },
      "text/plain": [
       "HBox(children=(Button(description='Add', style=ButtonStyle()), Button(description='Subtract', style=ButtonStyl…"
      ]
     },
     "metadata": {},
     "output_type": "display_data"
    },
    {
     "data": {
      "application/vnd.jupyter.widget-view+json": {
       "model_id": "cd9d850c5ad84c04a495538de73c58e3",
       "version_major": 2,
       "version_minor": 0
      },
      "text/plain": [
       "HBox(children=(Button(description='Transpose A', style=ButtonStyle()), Button(description='Transpose B', style…"
      ]
     },
     "metadata": {},
     "output_type": "display_data"
    },
    {
     "data": {
      "application/vnd.jupyter.widget-view+json": {
       "model_id": "c00b870c1a85476f9358c1a9e50f185a",
       "version_major": 2,
       "version_minor": 0
      },
      "text/plain": [
       "HBox(children=(Button(description='Determinant A', style=ButtonStyle()), Button(description='Determinant B', s…"
      ]
     },
     "metadata": {},
     "output_type": "display_data"
    },
    {
     "data": {
      "application/vnd.jupyter.widget-view+json": {
       "model_id": "6eed7c46a96546e3bddfac28262ebb98",
       "version_major": 2,
       "version_minor": 0
      },
      "text/plain": [
       "Output()"
      ]
     },
     "metadata": {},
     "output_type": "display_data"
    }
   ],
   "source": [
    "import numpy as np\n",
    "import ipywidgets as widgets\n",
    "from IPython.display import display, Markdown\n",
    "\n",
    "# Display the heading\n",
    "display(Markdown(\"## 🧮 Matrix Operations Tool\"))\n",
    "\n",
    "# Text input for matrices (entered as comma-separated rows)\n",
    "matrix_a = widgets.Textarea(\n",
    "    value='1,2\\n3,4',\n",
    "    description='Matrix A:',\n",
    "    layout=widgets.Layout(width='50%')\n",
    ")\n",
    "matrix_b = widgets.Textarea(\n",
    "    value='5,6\\n7,8',\n",
    "    description='Matrix B:',\n",
    "    layout=widgets.Layout(width='50%')\n",
    ")\n",
    "\n",
    "# Buttons for operations\n",
    "button_add = widgets.Button(description=\"Add\")\n",
    "button_subtract = widgets.Button(description=\"Subtract\")\n",
    "button_multiply = widgets.Button(description=\"Multiply\")\n",
    "button_transpose_a = widgets.Button(description=\"Transpose A\")\n",
    "button_transpose_b = widgets.Button(description=\"Transpose B\")\n",
    "button_det_a = widgets.Button(description=\"Determinant A\")\n",
    "button_det_b = widgets.Button(description=\"Determinant B\")\n",
    "\n",
    "# Output area\n",
    "output = widgets.Output()\n",
    "\n",
    "# Function to parse matrix from string input\n",
    "def parse_matrix(text):\n",
    "    try:\n",
    "        rows = text.strip().split('\\n')\n",
    "        matrix = np.array([[float(num) for num in row.split(',')] for row in rows])\n",
    "        return matrix\n",
    "    except Exception as e:\n",
    "        raise ValueError(\"Invalid matrix format. Use rows separated by newline and numbers by comma.\")\n",
    "\n",
    "# Button click handlers\n",
    "def on_add_clicked(b):\n",
    "    with output:\n",
    "        output.clear_output()\n",
    "        try:\n",
    "            a = parse_matrix(matrix_a.value)\n",
    "            b = parse_matrix(matrix_b.value)\n",
    "            print(\"A + B =\\n\", a + b)\n",
    "        except Exception as e:\n",
    "            print(\"Error:\", e)\n",
    "\n",
    "def on_subtract_clicked(b):\n",
    "    with output:\n",
    "        output.clear_output()\n",
    "        try:\n",
    "            a = parse_matrix(matrix_a.value)\n",
    "            b = parse_matrix(matrix_b.value)\n",
    "            print(\"A - B =\\n\", a - b)\n",
    "        except Exception as e:\n",
    "            print(\"Error:\", e)\n",
    "\n",
    "def on_multiply_clicked(b):\n",
    "    with output:\n",
    "        output.clear_output()\n",
    "        try:\n",
    "            a = parse_matrix(matrix_a.value)\n",
    "            b = parse_matrix(matrix_b.value)\n",
    "            print(\"A × B =\\n\", np.dot(a, b))\n",
    "        except Exception as e:\n",
    "            print(\"Error:\", e)\n",
    "\n",
    "def on_transpose_a_clicked(b):\n",
    "    with output:\n",
    "        output.clear_output()\n",
    "        try:\n",
    "            a = parse_matrix(matrix_a.value)\n",
    "            print(\"Transpose of A:\\n\", a.T)\n",
    "        except Exception as e:\n",
    "            print(\"Error:\", e)\n",
    "\n",
    "def on_transpose_b_clicked(b):\n",
    "    with output:\n",
    "        output.clear_output()\n",
    "        try:\n",
    "            b_ = parse_matrix(matrix_b.value)\n",
    "            print(\"Transpose of B:\\n\", b_.T)\n",
    "        except Exception as e:\n",
    "            print(\"Error:\", e)\n",
    "\n",
    "def on_det_a_clicked(b):\n",
    "    with output:\n",
    "        output.clear_output()\n",
    "        try:\n",
    "            a = parse_matrix(matrix_a.value)\n",
    "            print(\"Determinant of A:\", np.linalg.det(a))\n",
    "        except Exception as e:\n",
    "            print(\"Error:\", e)\n",
    "\n",
    "def on_det_b_clicked(b):\n",
    "    with output:\n",
    "        output.clear_output()\n",
    "        try:\n",
    "            b_ = parse_matrix(matrix_b.value)\n",
    "            print(\"Determinant of B:\", np.linalg.det(b_))\n",
    "        except Exception as e:\n",
    "            print(\"Error:\", e)\n",
    "\n",
    "# Attach handlers to buttons\n",
    "button_add.on_click(on_add_clicked)\n",
    "button_subtract.on_click(on_subtract_clicked)\n",
    "button_multiply.on_click(on_multiply_clicked)\n",
    "button_transpose_a.on_click(on_transpose_a_clicked)\n",
    "button_transpose_b.on_click(on_transpose_b_clicked)\n",
    "button_det_a.on_click(on_det_a_clicked)\n",
    "button_det_b.on_click(on_det_b_clicked)\n",
    "\n",
    "# Display everything\n",
    "display(matrix_a, matrix_b)\n",
    "display(widgets.HBox([button_add, button_subtract, button_multiply]))\n",
    "display(widgets.HBox([button_transpose_a, button_transpose_b]))\n",
    "display(widgets.HBox([button_det_a, button_det_b]))\n",
    "display(output)"
   ]
  },
  {
   "cell_type": "code",
   "execution_count": null,
   "id": "3625ee17-ef67-43f4-aa5e-0ae9cf89e017",
   "metadata": {},
   "outputs": [],
   "source": []
  }
 ],
 "metadata": {
  "kernelspec": {
   "display_name": "Python 3 (ipykernel)",
   "language": "python",
   "name": "python3"
  },
  "language_info": {
   "codemirror_mode": {
    "name": "ipython",
    "version": 3
   },
   "file_extension": ".py",
   "mimetype": "text/x-python",
   "name": "python",
   "nbconvert_exporter": "python",
   "pygments_lexer": "ipython3",
   "version": "3.9.19"
  }
 },
 "nbformat": 4,
 "nbformat_minor": 5
}
