import speech_recognition as sr # type: ignore
import pyttsx3
import requests
import time

# Initialize Text-to-Speech engine
engine = pyttsx3.init()
engine.setProperty('rate', 150)

def speak(text):
    print(f"Assistant: {text}")
    engine.say(text)
    engine.runAndWait()

def listen():
    r = sr.Recognizer()
    with sr.Microphone() as source:
        print("Listening...")
        audio = r.listen(source)
    try:
        command = r.recognize_google(audio)
        print(f"You said: {command}")
        return command.lower()
    except sr.UnknownValueError:
        speak("Sorry, I didn’t understand.")
        return ""
    except sr.RequestError:
        speak("Sorry, there was a problem with the recognition service.")
        return ""

def get_weather(city):
    api_key = "YOUR_OPENWEATHERMAP_API_KEY"
    url = f"https://api.openweathermap.org/data/2.5/weather?q={city}&appid={api_key}&units=metric"
    res = requests.get(url).json()
    if res.get("main"):
        temp = res["main"]["temp"]
        desc = res["weather"][0]["description"]
        speak(f"The weather in {city} is {desc} with {temp}°C.")
    else:
        speak("I couldn't find the weather for that city.")

def get_news():
    api_key = "YOUR_NEWSAPI_KEY"
    url = f"https://newsapi.org/v2/top-headlines?country=in&apiKey={api_key}"
    res = requests.get(url).json()
    articles = res.get("articles", [])[:3]
    for i, article in enumerate(articles):
        speak(f"News {i+1}: {article['title']}")

def set_reminder(task, seconds):
    speak(f"Reminder set for {task} in {seconds} seconds.")
    time.sleep(seconds)
    speak(f"Reminder: {task}")

# Main loop
speak("Hello! How can I help you today?")
while True:
    command = listen()

    if "weather" in command:
        speak("Which city?")
        city = listen()
        get_weather(city)

    elif "news" in command:
        get_news()

    elif "remind me" in command:
        speak("What should I remind you about?")
        task = listen()
        speak("In how many seconds?")
        try:
            seconds = int(listen())
            set_reminder(task, seconds)
        except:
            speak("Sorry, I didn't understand the time.")

    elif "exit" in command or "stop" in command:
        speak("Goodbye!")
        break

    else:
        speak("I can help with weather, news, and reminders. Try asking one of those.")